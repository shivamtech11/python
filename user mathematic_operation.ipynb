{
 "cells": [
  {
   "cell_type": "markdown",
   "metadata": {},
   "source": [
    "user input opertions"
   ]
  },
  {
   "cell_type": "code",
   "execution_count": 24,
   "metadata": {},
   "outputs": [
    {
     "name": "stdout",
     "output_type": "stream",
     "text": [
      "Enter the first num= 1\n",
      "Entetr the second num= 2\n"
     ]
    }
   ],
   "source": [
    "#taking the inputs from user\n",
    "num1=int(input(\"Enter the first num= \"))     #type casting=cnvert one typeinto another type of variable\n",
    "num2=int(input(\"Entetr the second num= \"))\n"
   ]
  },
  {
   "cell_type": "code",
   "execution_count": 27,
   "metadata": {},
   "outputs": [
    {
     "name": "stdout",
     "output_type": "stream",
     "text": [
      "sum= 3\n"
     ]
    }
   ],
   "source": [
    "#now the time mathematics\n",
    "sum=num1+num2\n",
    "print(\"sum=\",sum)"
   ]
  },
  {
   "cell_type": "code",
   "execution_count": 28,
   "metadata": {},
   "outputs": [
    {
     "name": "stdout",
     "output_type": "stream",
     "text": [
      "multiply= 2\n"
     ]
    }
   ],
   "source": [
    "mul=num1*num2\n",
    "print(\"multiply=\",mul)"
   ]
  },
  {
   "cell_type": "code",
   "execution_count": 29,
   "metadata": {},
   "outputs": [
    {
     "name": "stdout",
     "output_type": "stream",
     "text": [
      "div= 0.5\n"
     ]
    }
   ],
   "source": [
    "div=num1/num2\n",
    "print(\"div=\",div)"
   ]
  },
  {
   "cell_type": "code",
   "execution_count": 30,
   "metadata": {},
   "outputs": [
    {
     "name": "stdout",
     "output_type": "stream",
     "text": [
      "sub= -1\n"
     ]
    }
   ],
   "source": [
    "sum=num1-num2\n",
    "print(\"sub=\",sum)"
   ]
  },
  {
   "cell_type": "code",
   "execution_count": 31,
   "metadata": {},
   "outputs": [
    {
     "name": "stdout",
     "output_type": "stream",
     "text": [
      "sub= 1\n"
     ]
    }
   ],
   "source": [
    "sum=num2-num1\n",
    "print(\"sub=\",sum)"
   ]
  },
  {
   "cell_type": "code",
   "execution_count": 32,
   "metadata": {},
   "outputs": [
    {
     "name": "stdout",
     "output_type": "stream",
     "text": [
      "power= 2\n"
     ]
    }
   ],
   "source": [
    "sum=num2**num1\n",
    "print(\"power=\",sum)"
   ]
  },
  {
   "cell_type": "code",
   "execution_count": 33,
   "metadata": {},
   "outputs": [
    {
     "name": "stdout",
     "output_type": "stream",
     "text": [
      "double= 2\n"
     ]
    }
   ],
   "source": [
    "sum=num2//num1\n",
    "print(\"double=\",sum)"
   ]
  },
  {
   "cell_type": "code",
   "execution_count": 39,
   "metadata": {},
   "outputs": [
    {
     "name": "stdout",
     "output_type": "stream",
     "text": [
      "= False\n"
     ]
    }
   ],
   "source": [
    "sum=num1==num2\n",
    "print(\"=\",sum)"
   ]
  },
  {
   "cell_type": "code",
   "execution_count": 40,
   "metadata": {},
   "outputs": [
    {
     "name": "stdout",
     "output_type": "stream",
     "text": [
      "= True\n"
     ]
    }
   ],
   "source": [
    "sum=num1<=num2\n",
    "print(\"=\",sum)"
   ]
  },
  {
   "cell_type": "code",
   "execution_count": 37,
   "metadata": {},
   "outputs": [
    {
     "name": "stdout",
     "output_type": "stream",
     "text": [
      "= False\n"
     ]
    }
   ],
   "source": [
    "sum=num1>=num2\n",
    "print(\"=\",sum)"
   ]
  },
  {
   "cell_type": "code",
   "execution_count": null,
   "metadata": {},
   "outputs": [],
   "source": []
  }
 ],
 "metadata": {
  "kernelspec": {
   "display_name": "Python 3",
   "language": "python",
   "name": "python3"
  },
  "language_info": {
   "codemirror_mode": {
    "name": "ipython",
    "version": 3
   },
   "file_extension": ".py",
   "mimetype": "text/x-python",
   "name": "python",
   "nbconvert_exporter": "python",
   "pygments_lexer": "ipython3",
   "version": "3.7.3"
  }
 },
 "nbformat": 4,
 "nbformat_minor": 2
}
